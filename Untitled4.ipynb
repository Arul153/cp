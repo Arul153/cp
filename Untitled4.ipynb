!pip install gradio diffusers torch --quiet

from diffusers import StableDiffusionImg2ImgPipeline
import torch
from PIL import Image
import gradio as gr

def load_pipeline():
    device = "cuda" if torch.cuda.is_available() else "cpu"
    pipe = StableDiffusionImg2ImgPipeline.from_pretrained(
        "stabilityai/stable-diffusion-2-1",
        torch_dtype=torch.float16 if device == "cuda" else torch.float32
    ).to(device)
    return pipe

def ghibli_style_transform(image, prompt="Ghibli style painting, vibrant, detailed"):
    device = "cuda" if torch.cuda.is_available() else "cpu"
    pipe = load_pipeline()
    init_image = image.convert("RGB").resize((512, 512))

    result = pipe(
        prompt=prompt,
        image=init_image,
        strength=0.75,
        guidance_scale=7.5
    ).images[0]

    return result

demo = gr.Interface(
    fn=ghibli_style_transform,
    inputs=[gr.Image(type="pil"), gr.Textbox(value="Ghibli style painting, vibrant, detailed")],
    outputs=gr.Image()
)

demo.launch()
