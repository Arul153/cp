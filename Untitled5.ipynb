!pip install gradio

import cv2
import numpy as np
import gradio as gr

def process_image(image, brightness=30):
    image = np.array(image.convert("RGB"))
    image = cv2.cvtColor(image, cv2.COLOR_RGB2BGR)

    hsv = cv2.cvtColor(image, cv2.COLOR_BGR2HSV)
    h, s, v = cv2.split(hsv)
    v = cv2.add(v, brightness)
    v[v > 255] = 255
    hsv = cv2.merge((h, s, v))
    brightened_image = cv2.cvtColor(hsv, cv2.COLOR_HSV2BGR)

    gray = cv2.cvtColor(brightened_image, cv2.COLOR_BGR2GRAY)
    edges = cv2.Canny(gray, 50, 150)
    edges_rgb = cv2.cvtColor(edges, cv2.COLOR_GRAY2RGB)

    return edges_rgb

iface = gr.Interface(
    fn=process_image,
    inputs=[
        gr.Image(type="pil"),
        gr.Slider(0, 100, value=30, step=5, label="Brightness Increase"),
    ],
    outputs=gr.Image(type="numpy"),
)

iface.launch()
