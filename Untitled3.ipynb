import cv2 import numpy as np import gradio as gr import os

Ensure required libraries are installed

os.system('pip install opencv-python numpy gradio')

def stretch_image_with_grid(image, scale_x=1.5, scale_y=1.5, grid_size=50, stroke_width=1): image = np.array(image) image = cv2.cvtColor(image, cv2.COLOR_RGB2BGR)

height, width = image.shape[:2]
new_width = int(width * scale_x)
new_height = int(height * scale_y)
stretched_image = cv2.resize(image, (new_width, new_height))

for x in range(0, new_width + 1, grid_size):
    cv2.line(stretched_image, (x, 0), (x, new_height), (0, 255, 0), stroke_width)
for y in range(0, new_height + 1, grid_size):
    cv2.line(stretched_image, (0, y), (new_width, y), (0, 255, 0), stroke_width)

stretched_image = cv2.cvtColor(stretched_image, cv2.COLOR_BGR2RGB)

return stretched_image

demo = gr.Interface( fn=stretch_image_with_grid, inputs=[ gr.Image(type="pil"), gr.Slider(1.0, 3.0, value=1.5, label="Scale X"), gr.Slider(1.0, 3.0, value=1.5, label="Scale Y"), gr.Slider(1, 100, value=50, label="Grid Size"), gr.Slider(1, 5, value=1, label="Stroke Width") ], outputs=gr.Image(type="numpy"), )

demo.launch()
