import gradio as gr
import cv2
import numpy as np
from PIL import Image
import io
from sklearn.cluster import KMeans

def detect_damage(image, clusters):
    image = Image.open(image)
    image = np.array(image)

    pixels = image.reshape(-1, 3)
    kmeans = KMeans(n_clusters=clusters, random_state=0, n_init=10)
    kmeans.fit(pixels)
    clustered_pixels = kmeans.cluster_centers_[kmeans.labels_]
    clustered_image = clustered_pixels.reshape(image.shape).astype(np.uint8)

    gray = cv2.cvtColor(clustered_image, cv2.COLOR_RGB2GRAY)
    _, thresh = cv2.threshold(gray, 128, 255, cv2.THRESH_BINARY_INV)

    contours, _ = cv2.findContours(thresh, cv2.RETR_EXTERNAL, cv2.CHAIN_APPROX_SIMPLE)
    for contour in contours:
        if cv2.contourArea(contour) > 500:
            cv2.drawContours(clustered_image, [contour], -1, (255, 0, 0), 3)

    result_image = Image.fromarray(clustered_image)
    return result_image

demo = gr.Interface(
    fn=detect_damage,
    inputs=[
        gr.Image(type="filepath", label="Upload Vehicle Image"),
        gr.Slider(0, 100, value=10, step=1, label="Number of Clusters")
    ],
    outputs=gr.Image(label="Detected Damage"),
    title="Vehicle Damage Detection using K-Means Clustering",
    description="Upload a vehicle image to detect potential damage using K-Means clustering."
)

demo.launch()
